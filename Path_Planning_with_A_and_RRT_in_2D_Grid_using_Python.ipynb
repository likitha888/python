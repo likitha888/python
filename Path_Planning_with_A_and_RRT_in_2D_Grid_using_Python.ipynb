{
  "nbformat": 4,
  "nbformat_minor": 0,
  "metadata": {
    "colab": {
      "provenance": [],
      "authorship_tag": "ABX9TyNYm75ereGI5p16XCRkp9+a",
      "include_colab_link": true
    },
    "kernelspec": {
      "name": "python3",
      "display_name": "Python 3"
    },
    "language_info": {
      "name": "python"
    }
  },
  "cells": [
    {
      "cell_type": "markdown",
      "metadata": {
        "id": "view-in-github",
        "colab_type": "text"
      },
      "source": [
        "<a href=\"https://colab.research.google.com/github/likitha888/python/blob/main/Path_Planning_with_A_and_RRT_in_2D_Grid_using_Python.ipynb\" target=\"_parent\"><img src=\"https://colab.research.google.com/assets/colab-badge.svg\" alt=\"Open In Colab\"/></a>"
      ]
    },
    {
      "cell_type": "code",
      "source": [
        "pip install numpy matplotlib"
      ],
      "metadata": {
        "colab": {
          "base_uri": "https://localhost:8080/"
        },
        "id": "7K5aNFIlgiKw",
        "outputId": "99003368-2cef-489f-ee0d-f67a1a71dd7d"
      },
      "execution_count": 20,
      "outputs": [
        {
          "output_type": "stream",
          "name": "stdout",
          "text": [
            "Requirement already satisfied: numpy in /usr/local/lib/python3.12/dist-packages (2.0.2)\n",
            "Requirement already satisfied: matplotlib in /usr/local/lib/python3.12/dist-packages (3.10.0)\n",
            "Requirement already satisfied: contourpy>=1.0.1 in /usr/local/lib/python3.12/dist-packages (from matplotlib) (1.3.3)\n",
            "Requirement already satisfied: cycler>=0.10 in /usr/local/lib/python3.12/dist-packages (from matplotlib) (0.12.1)\n",
            "Requirement already satisfied: fonttools>=4.22.0 in /usr/local/lib/python3.12/dist-packages (from matplotlib) (4.60.0)\n",
            "Requirement already satisfied: kiwisolver>=1.3.1 in /usr/local/lib/python3.12/dist-packages (from matplotlib) (1.4.9)\n",
            "Requirement already satisfied: packaging>=20.0 in /usr/local/lib/python3.12/dist-packages (from matplotlib) (25.0)\n",
            "Requirement already satisfied: pillow>=8 in /usr/local/lib/python3.12/dist-packages (from matplotlib) (11.3.0)\n",
            "Requirement already satisfied: pyparsing>=2.3.1 in /usr/local/lib/python3.12/dist-packages (from matplotlib) (3.2.4)\n",
            "Requirement already satisfied: python-dateutil>=2.7 in /usr/local/lib/python3.12/dist-packages (from matplotlib) (2.9.0.post0)\n",
            "Requirement already satisfied: six>=1.5 in /usr/local/lib/python3.12/dist-packages (from python-dateutil>=2.7->matplotlib) (1.17.0)\n"
          ]
        }
      ]
    },
    {
      "cell_type": "code",
      "source": [
        "#2. Common Framework Setup\n",
        "#2.1 Define Grid Environment\n",
        "import numpy as np\n",
        "import matplotlib.pyplot as plt\n",
        "from queue import PriorityQueue\n",
        "import random\n",
        "import math\n",
        "\n",
        "# Grid dimensions\n",
        "GRID_WIDTH = 30\n",
        "GRID_HEIGHT = 30\n",
        "\n",
        "# Create obstacle map (1 = obstacle, 0 = free)\n",
        "def create_map():\n",
        "    grid = np.zeros((GRID_HEIGHT, GRID_WIDTH))\n",
        "\n",
        "    # Add rectangular obstacles\n",
        "    grid[5:15, 10:12] = 1\n",
        "    grid[15:20, 20:25] = 1\n",
        "    grid[0:3, :] = 1  # Boundary\n",
        "    grid[-3:, :] = 1\n",
        "    grid[:, 0:3] = 1\n",
        "    grid[:, -3:] = 1\n",
        "\n",
        "    return grid\n",
        "\n",
        "grid = create_map()\n",
        "start = (5, 5)\n",
        "goal = (25, 25)\n"
      ],
      "metadata": {
        "id": "UNKZSVnQgi1J"
      },
      "execution_count": 22,
      "outputs": []
    },
    {
      "cell_type": "code",
      "source": [
        "#2.2 Visualization Function\n",
        "def plot_path(grid, path=None, title=\"Path Planning\"):\n",
        "    plt.figure(figsize=(10, 10))\n",
        "    plt.imshow(grid, cmap='binary')\n",
        "\n",
        "    if path:\n",
        "        path_x, path_y = zip(*path)\n",
        "        plt.plot(path_y, path_x, 'r-', linewidth=2)\n",
        "\n",
        "    plt.plot(start[1], start[0], 'go', markersize=10)  # Start (green)\n",
        "    plt.plot(goal[1], goal[0], 'mo', markersize=10)   # Goal (magenta)\n",
        "    plt.title(title)\n",
        "    plt.grid(True)\n",
        "    plt.show()\n"
      ],
      "metadata": {
        "id": "oo944xTEgux5"
      },
      "execution_count": 23,
      "outputs": []
    },
    {
      "cell_type": "code",
      "source": [
        "#3. A Algorithm Implementation*\n",
        "\n",
        "#3.1 Heuristic Function (Euclidean Distance)\n",
        "def heuristic(a, b):\n",
        "    return math.sqrt((a[0]-b[0])**2 + (a[1]-b[1])**2)\n",
        "\n"
      ],
      "metadata": {
        "id": "rWUdnA0NgyaF"
      },
      "execution_count": 24,
      "outputs": []
    },
    {
      "cell_type": "code",
      "source": [
        "#3.2 A Core Algorithm*\n",
        "def a_star(grid, start, goal):\n",
        "    neighbors = [(0,1),(1,0),(0,-1),(-1,0),(1,1),(-1,1),(1,-1),(-1,-1)]  # 8-connected\n",
        "\n",
        "    open_set = PriorityQueue()\n",
        "    open_set.put((0, start))\n",
        "\n",
        "    came_from = {}\n",
        "    g_score = {start: 0}\n",
        "    f_score = {start: heuristic(start, goal)}\n",
        "\n",
        "    while not open_set.empty():\n",
        "        _, current = open_set.get()\n",
        "\n",
        "        if current == goal:\n",
        "            path = []\n",
        "            while current in came_from:\n",
        "                path.append(current)\n",
        "                current = came_from[current]\n",
        "            path.append(start)\n",
        "            return path[::-1]\n",
        "\n",
        "        for dx, dy in neighbors:\n",
        "            neighbor = current[0]+dx, current[1]+dy\n",
        "\n",
        "            # Check bounds and obstacles\n",
        "            if (0 <= neighbor[0] < GRID_HEIGHT and\n",
        "                0 <= neighbor[1] < GRID_WIDTH and\n",
        "                grid[neighbor[0], neighbor[1]] == 0):\n",
        "\n",
        "                tentative_g = g_score[current] + heuristic(current, neighbor)\n",
        "\n",
        "                if neighbor not in g_score or tentative_g < g_score[neighbor]:\n",
        "                    came_from[neighbor] = current\n",
        "                    g_score[neighbor] = tentative_g\n",
        "                    f_score[neighbor] = tentative_g + heuristic(neighbor, goal)\n",
        "                    open_set.put((f_score[neighbor], neighbor))\n",
        "\n",
        "    return None  # No path found\n"
      ],
      "metadata": {
        "id": "EQP6c5YDg4ou"
      },
      "execution_count": 25,
      "outputs": []
    },
    {
      "cell_type": "code",
      "source": [
        "#3.3 Run A*\n",
        "a_star_path = a_star(grid, start, goal)\n",
        "plot_path(grid, a_star_path, \"A* Path Planning\")\n",
        "\n"
      ],
      "metadata": {
        "colab": {
          "base_uri": "https://localhost:8080/",
          "height": 853
        },
        "id": "dq_AMnhvg8uB",
        "outputId": "bdb9b20c-a5c6-42c3-fbf8-4408e0e1f99c"
      },
      "execution_count": 26,
      "outputs": [
        {
          "output_type": "display_data",
          "data": {
            "text/plain": [
              "<Figure size 1000x1000 with 1 Axes>"
            ],
            "image/png": "[encoded data removed]"
          },
          "metadata": {}
        }
      ]
    },
    {
      "cell_type": "code",
      "source": [
        "#4. RRT Algorithm Implementation\n",
        "\n",
        "#4.1 RRT Node Structure\n",
        "class Node:\n",
        "    def __init__(self, pos):\n",
        "        self.pos = pos\n",
        "        self.parent = None\n"
      ],
      "metadata": {
        "id": "o8lONCTGg_4X"
      },
      "execution_count": 27,
      "outputs": []
    },
    {
      "cell_type": "code",
      "source": [
        "#4.2 RRT Core Algorithm\n",
        "def rrt(grid, start, goal, max_iter=1000, step_size=2.0):\n",
        "    nodes = [Node(start)]\n",
        "\n",
        "    for _ in range(max_iter):\n",
        "        # Sample random point (90% bias toward goal)\n",
        "        if random.random() < 0.9:\n",
        "            rand_pos = goal\n",
        "        else:\n",
        "            rand_pos = (random.randint(0, GRID_HEIGHT-1),\n",
        "                       random.randint(0, GRID_WIDTH-1))\n",
        "\n",
        "        # Find nearest node\n",
        "        nearest_node = min(nodes, key=lambda node: heuristic(node.pos, rand_pos))\n",
        "\n",
        "        # Steer toward random point\n",
        "        theta = math.atan2(rand_pos[0]-nearest_node.pos[0],\n",
        "                          rand_pos[1]-nearest_node.pos[1])\n",
        "        new_pos = (int(nearest_node.pos[0] + step_size * math.sin(theta)),\n",
        "                   int(nearest_node.pos[1] + step_size * math.cos(theta)))\n",
        "\n",
        "        # Check collision\n",
        "        if (0 <= new_pos[0] < GRID_HEIGHT and\n",
        "            0 <= new_pos[1] < GRID_WIDTH and\n",
        "            grid[new_pos[0], new_pos[1]] == 0):\n",
        "\n",
        "            # Add to tree\n",
        "            new_node = Node(new_pos)\n",
        "            new_node.parent = nearest_node\n",
        "            nodes.append(new_node)\n",
        "\n",
        "            # Check if reached goal\n",
        "            if heuristic(new_pos, goal) < step_size:\n",
        "                path = []\n",
        "                current = new_node\n",
        "                while current:\n",
        "                    path.append(current.pos)\n",
        "                    current = current.parent\n",
        "                return path[::-1]\n",
        "\n",
        "    return None  # No path found\n"
      ],
      "metadata": {
        "id": "n7t3QShthE97"
      },
      "execution_count": 28,
      "outputs": []
    },
    {
      "cell_type": "code",
      "source": [
        "#4.3 Run RRT\n",
        "rrt_path = rrt(grid, start, goal)\n",
        "plot_path(grid, rrt_path, \"RRT Path Planning\")\n"
      ],
      "metadata": {
        "colab": {
          "base_uri": "https://localhost:8080/",
          "height": 853
        },
        "id": "t5_Djb7ShKVS",
        "outputId": "b65b2f82-9e12-449b-b9c3-b07c4a56f0b9"
      },
      "execution_count": 29,
      "outputs": [
        {
          "output_type": "display_data",
          "data": {
            "text/plain": [
              "<Figure size 1000x1000 with 1 Axes>"
            ],
            "image/png": "[encoded data removed]"
          },
          "metadata": {}
        }
      ]
    },
    {
      "cell_type": "code",
      "source": [],
      "metadata": {
        "id": "_GTttOGMhPv7"
      },
      "execution_count": null,
      "outputs": []
    }
  ]
}