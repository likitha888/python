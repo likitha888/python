{
  "nbformat": 4,
  "nbformat_minor": 0,
  "metadata": {
    "colab": {
      "provenance": [],
      "authorship_tag": "ABX9TyOosz2R7OyijhmR1VInYdiq",
      "include_colab_link": true
    },
    "kernelspec": {
      "name": "python3",
      "display_name": "Python 3"
    },
    "language_info": {
      "name": "python"
    }
  },
  "cells": [
    {
      "cell_type": "markdown",
      "metadata": {
        "id": "view-in-github",
        "colab_type": "text"
      },
      "source": [
        "<a href=\"https://colab.research.google.com/github/likitha888/python/blob/main/LLM.ipynb\" target=\"_parent\"><img src=\"https://colab.research.google.com/assets/colab-badge.svg\" alt=\"Open In Colab\"/></a>"
      ]
    },
    {
      "cell_type": "code",
      "execution_count": null,
      "metadata": {
        "id": "sLBBSYgfjtwe"
      },
      "outputs": [],
      "source": [
        "!pip install langchain_openai\n",
        "from langchain_core.output_parsers import pydanticOutputParser\n",
        "from langchain_core.prompts import promptTemplate\n",
        "from langchain_openai import OpenAI\n",
        "from pydantic import BaseModel, Field, model_validator\n",
        "\n",
        "model = OpenAI(model_name=\"gpt-3.5-turbo-instruct\", temperature=0.0, openai_api_key=\"sk-\")\n",
        "\n",
        "\n",
        "class Joke(BaseModel):\n",
        "    setup: str = Field(description=\"question to set up a joke\")\n",
        "    punchline: str = Field(description=\"answer to resolve the joke\")\n",
        "\n",
        "    @model_validator(mode=\"before\")\n",
        "    @classmethod\n",
        "    def question_ends_with_questions_mark(cls, values: dict) -> dict:\n",
        "        setup = values.get(\"setup\")\n",
        "        if setup and setup[-1] != \"?\":\n",
        "            raise ValueError(\"Badly formed question!\")\n",
        "        return values\n",
        "\n",
        "\n",
        "parser =pydanticOutputParser(pydantic_object=Joke)\n",
        "\n",
        "prompt = PromptTemplate(\n",
        "    template=\"Answer the user query.\\n{format_instructions}\\n{query}\\n\",\n",
        "    input_variables=[\"query\"],\n",
        "    partial_variables={\"format_instructions\": parser.get_format_instructions()},\n",
        ")\n",
        "\n",
        "prompt_and_model = prompt | model\n",
        "output = prompt_and_model.invoke({\"query\": \"Tell me a joke.\"})\n",
        "parser.invoke(output)"
      ]
    }
  ]
}