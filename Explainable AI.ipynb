{
  "nbformat": 4,
  "nbformat_minor": 0,
  "metadata": {
    "colab": {
      "provenance": [],
      "gpuType": "T4",
      "authorship_tag": "ABX9TyM2uBzWRqhPpuNSqjkh2LRX",
      "include_colab_link": true
    },
    "kernelspec": {
      "name": "python3",
      "display_name": "Python 3"
    },
    "language_info": {
      "name": "python"
    },
    "accelerator": "GPU"
  },
  "cells": [
    {
      "cell_type": "markdown",
      "metadata": {
        "id": "view-in-github",
        "colab_type": "text"
      },
      "source": [
        "<a href=\"https://colab.research.google.com/github/likitha888/python/blob/main/Explainable%20AI.ipynb\" target=\"_parent\"><img src=\"https://colab.research.google.com/assets/colab-badge.svg\" alt=\"Open In Colab\"/></a>"
      ]
    },
    {
      "cell_type": "code",
      "execution_count": null,
      "metadata": {
        "id": "ztnjfoMtTLi4"
      },
      "outputs": [],
      "source": [
        "from sklearn.datasets import load_breast_cancer\n",
        "from sklearn.ensemble import RandomForestClassifier\n",
        "from sklearn.naive_bayes import GaussianNB\n",
        "from sklearn.model_selection import train_test_split\n"
      ]
    },
    {
      "cell_type": "code",
      "source": [
        "data=load_breast_cancer()\n",
        "\n",
        "X,y=data['data'],data['target']"
      ],
      "metadata": {
        "id": "yc4r-JihTyTR"
      },
      "execution_count": null,
      "outputs": []
    },
    {
      "cell_type": "code",
      "source": [
        "y"
      ],
      "metadata": {
        "colab": {
          "base_uri": "https://localhost:8080/"
        },
        "id": "lz1i2M4uT2yz",
        "outputId": "20883838-883a-4fec-f6df-f30e2b39c4cb"
      },
      "execution_count": null,
      "outputs": [
        {
          "output_type": "execute_result",
          "data": {
            "text/plain": [
              "array([0, 0, 0, 0, 0, 0, 0, 0, 0, 0, 0, 0, 0, 0, 0, 0, 0, 0, 0, 1, 1, 1,\n",
              "       0, 0, 0, 0, 0, 0, 0, 0, 0, 0, 0, 0, 0, 0, 0, 1, 0, 0, 0, 0, 0, 0,\n",
              "       0, 0, 1, 0, 1, 1, 1, 1, 1, 0, 0, 1, 0, 0, 1, 1, 1, 1, 0, 1, 0, 0,\n",
              "       1, 1, 1, 1, 0, 1, 0, 0, 1, 0, 1, 0, 0, 1, 1, 1, 0, 0, 1, 0, 0, 0,\n",
              "       1, 1, 1, 0, 1, 1, 0, 0, 1, 1, 1, 0, 0, 1, 1, 1, 1, 0, 1, 1, 0, 1,\n",
              "       1, 1, 1, 1, 1, 1, 1, 0, 0, 0, 1, 0, 0, 1, 1, 1, 0, 0, 1, 0, 1, 0,\n",
              "       0, 1, 0, 0, 1, 1, 0, 1, 1, 0, 1, 1, 1, 1, 0, 1, 1, 1, 1, 1, 1, 1,\n",
              "       1, 1, 0, 1, 1, 1, 1, 0, 0, 1, 0, 1, 1, 0, 0, 1, 1, 0, 0, 1, 1, 1,\n",
              "       1, 0, 1, 1, 0, 0, 0, 1, 0, 1, 0, 1, 1, 1, 0, 1, 1, 0, 0, 1, 0, 0,\n",
              "       0, 0, 1, 0, 0, 0, 1, 0, 1, 0, 1, 1, 0, 1, 0, 0, 0, 0, 1, 1, 0, 0,\n",
              "       1, 1, 1, 0, 1, 1, 1, 1, 1, 0, 0, 1, 1, 0, 1, 1, 0, 0, 1, 0, 1, 1,\n",
              "       1, 1, 0, 1, 1, 1, 1, 1, 0, 1, 0, 0, 0, 0, 0, 0, 0, 0, 0, 0, 0, 0,\n",
              "       0, 0, 1, 1, 1, 1, 1, 1, 0, 1, 0, 1, 1, 0, 1, 1, 0, 1, 0, 0, 1, 1,\n",
              "       1, 1, 1, 1, 1, 1, 1, 1, 1, 1, 1, 0, 1, 1, 0, 1, 0, 1, 1, 1, 1, 1,\n",
              "       1, 1, 1, 1, 1, 1, 1, 1, 1, 0, 1, 1, 1, 0, 1, 0, 1, 1, 1, 1, 0, 0,\n",
              "       0, 1, 1, 1, 1, 0, 1, 0, 1, 0, 1, 1, 1, 0, 1, 1, 1, 1, 1, 1, 1, 0,\n",
              "       0, 0, 1, 1, 1, 1, 1, 1, 1, 1, 1, 1, 1, 0, 0, 1, 0, 0, 0, 1, 0, 0,\n",
              "       1, 1, 1, 1, 1, 0, 1, 1, 1, 1, 1, 0, 1, 1, 1, 0, 1, 1, 0, 0, 1, 1,\n",
              "       1, 1, 1, 1, 0, 1, 1, 1, 1, 1, 1, 1, 0, 1, 1, 1, 1, 1, 0, 1, 1, 0,\n",
              "       1, 1, 1, 1, 1, 1, 1, 1, 1, 1, 1, 1, 0, 1, 0, 0, 1, 0, 1, 1, 1, 1,\n",
              "       1, 0, 1, 1, 0, 1, 0, 1, 1, 0, 1, 0, 1, 1, 1, 1, 1, 1, 1, 1, 0, 0,\n",
              "       1, 1, 1, 1, 1, 1, 0, 1, 1, 1, 1, 1, 1, 1, 1, 1, 1, 0, 1, 1, 1, 1,\n",
              "       1, 1, 1, 0, 1, 0, 1, 1, 0, 1, 1, 1, 1, 1, 0, 0, 1, 0, 1, 0, 1, 1,\n",
              "       1, 1, 1, 0, 1, 1, 0, 1, 0, 1, 0, 0, 1, 1, 1, 0, 1, 1, 1, 1, 1, 1,\n",
              "       1, 1, 1, 1, 1, 0, 1, 0, 0, 1, 1, 1, 1, 1, 1, 1, 1, 1, 1, 1, 1, 1,\n",
              "       1, 1, 1, 1, 1, 1, 1, 1, 1, 1, 1, 1, 0, 0, 0, 0, 0, 0, 1])"
            ]
          },
          "metadata": {},
          "execution_count": 5
        }
      ]
    },
    {
      "cell_type": "code",
      "source": [
        "data['target_names']"
      ],
      "metadata": {
        "colab": {
          "base_uri": "https://localhost:8080/"
        },
        "id": "no_VfVw0UFLj",
        "outputId": "0a7bdbdb-189a-4b4f-8eef-c0d473e697b2"
      },
      "execution_count": null,
      "outputs": [
        {
          "output_type": "execute_result",
          "data": {
            "text/plain": [
              "array(['malignant', 'benign'], dtype='<U9')"
            ]
          },
          "metadata": {},
          "execution_count": 7
        }
      ]
    },
    {
      "cell_type": "code",
      "source": [],
      "metadata": {
        "id": "s7P1o69kUo2s"
      },
      "execution_count": null,
      "outputs": []
    },
    {
      "cell_type": "code",
      "source": [
        "x_train,x_test,y_train,y_test=train_test_split(X,y,test_size=0.2,random_state=42)\n",
        "c1f=RandomForestClassifier(n_jobs=-1)\n",
        "c1f.fit(x_train,y_train)\n",
        "print(f\"baseline accuracy on the test data:(c1f.score(x_test,y_test):.2)\")"
      ],
      "metadata": {
        "colab": {
          "base_uri": "https://localhost:8080/"
        },
        "id": "8wMf6jDJUYEO",
        "outputId": "0efb6679-a116-436f-ed8e-3ad7dab36f8e"
      },
      "execution_count": null,
      "outputs": [
        {
          "output_type": "stream",
          "name": "stdout",
          "text": [
            "baseline accuracy on the test data:(c1f.score(x_test,y_test):.2)\n"
          ]
        }
      ]
    },
    {
      "cell_type": "code",
      "source": [
        "c1f.feature_importances_"
      ],
      "metadata": {
        "colab": {
          "base_uri": "https://localhost:8080/"
        },
        "id": "vYoSIYE0Vp56",
        "outputId": "ba18eddb-e21d-44a5-e2ab-9117f49e61e9"
      },
      "execution_count": null,
      "outputs": [
        {
          "output_type": "execute_result",
          "data": {
            "text/plain": [
              "array([0.02361919, 0.015616  , 0.03089866, 0.05827335, 0.00841892,\n",
              "       0.01326174, 0.03301004, 0.15818756, 0.00274254, 0.00392357,\n",
              "       0.00533069, 0.00487877, 0.01833543, 0.02314934, 0.0044964 ,\n",
              "       0.00377289, 0.00532788, 0.00405063, 0.00550199, 0.00648892,\n",
              "       0.10112794, 0.01964591, 0.15157344, 0.09001488, 0.01453197,\n",
              "       0.01129753, 0.03166301, 0.1283094 , 0.016185  , 0.00636642])"
            ]
          },
          "metadata": {},
          "execution_count": 14
        }
      ]
    },
    {
      "cell_type": "code",
      "source": [
        "from sklearn.inspection import permutation_importance\n",
        "importances=permutation_importance(c1f,x_test,y_test,n_repeats=10,random_state=42,n_jobs=-1)\n",
        "importances"
      ],
      "metadata": {
        "colab": {
          "base_uri": "https://localhost:8080/"
        },
        "id": "-SGV4JKBV91a",
        "outputId": "f19e8493-e5ac-407c-d554-69133a990c44"
      },
      "execution_count": null,
      "outputs": [
        {
          "output_type": "execute_result",
          "data": {
            "text/plain": [
              "{'importances_mean': array([ 0.        ,  0.00438596,  0.00438596,  0.00263158,  0.00087719,\n",
              "         0.        ,  0.00350877, -0.00438596,  0.00087719,  0.        ,\n",
              "         0.00438596,  0.        ,  0.        ,  0.00526316,  0.00175439,\n",
              "         0.        ,  0.        ,  0.        ,  0.        ,  0.        ,\n",
              "         0.00263158,  0.00087719,  0.00175439, -0.00263158,  0.        ,\n",
              "         0.        ,  0.00087719, -0.00175439,  0.00087719,  0.        ]),\n",
              " 'importances_std': array([0.        , 0.00438596, 0.00438596, 0.0040198 , 0.00263158,\n",
              "        0.        , 0.00429735, 0.00808732, 0.00263158, 0.        ,\n",
              "        0.00438596, 0.        , 0.        , 0.00429735, 0.00350877,\n",
              "        0.        , 0.        , 0.        , 0.        , 0.        ,\n",
              "        0.00561678, 0.00728651, 0.00656431, 0.00561678, 0.        ,\n",
              "        0.        , 0.00263158, 0.01095614, 0.00263158, 0.        ]),\n",
              " 'importances': array([[ 0.        ,  0.        ,  0.        ,  0.        ,  0.        ,\n",
              "          0.        ,  0.        ,  0.        ,  0.        ,  0.        ],\n",
              "        [ 0.        ,  0.00877193,  0.00877193,  0.00877193,  0.        ,\n",
              "          0.        ,  0.00877193,  0.        ,  0.        ,  0.00877193],\n",
              "        [ 0.        ,  0.00877193,  0.        ,  0.        ,  0.00877193,\n",
              "          0.        ,  0.00877193,  0.00877193,  0.        ,  0.00877193],\n",
              "        [ 0.        ,  0.        ,  0.        ,  0.00877193,  0.        ,\n",
              "          0.00877193,  0.        ,  0.00877193,  0.        ,  0.        ],\n",
              "        [ 0.        ,  0.        ,  0.        ,  0.        ,  0.        ,\n",
              "          0.        ,  0.        ,  0.00877193,  0.        ,  0.        ],\n",
              "        [ 0.        ,  0.        ,  0.        ,  0.        ,  0.        ,\n",
              "          0.        ,  0.        ,  0.        ,  0.        ,  0.        ],\n",
              "        [ 0.        ,  0.00877193,  0.        ,  0.        ,  0.00877193,\n",
              "          0.        ,  0.00877193,  0.        ,  0.        ,  0.00877193],\n",
              "        [-0.00877193,  0.        , -0.00877193, -0.00877193,  0.01754386,\n",
              "         -0.00877193, -0.00877193, -0.00877193, -0.00877193,  0.        ],\n",
              "        [ 0.        ,  0.        ,  0.        ,  0.        ,  0.        ,\n",
              "          0.        ,  0.        ,  0.00877193,  0.        ,  0.        ],\n",
              "        [ 0.        ,  0.        ,  0.        ,  0.        ,  0.        ,\n",
              "          0.        ,  0.        ,  0.        ,  0.        ,  0.        ],\n",
              "        [ 0.        ,  0.00877193,  0.        ,  0.        ,  0.00877193,\n",
              "          0.        ,  0.00877193,  0.00877193,  0.        ,  0.00877193],\n",
              "        [ 0.        ,  0.        ,  0.        ,  0.        ,  0.        ,\n",
              "          0.        ,  0.        ,  0.        ,  0.        ,  0.        ],\n",
              "        [ 0.        ,  0.        ,  0.        ,  0.        ,  0.        ,\n",
              "          0.        ,  0.        ,  0.        ,  0.        ,  0.        ],\n",
              "        [ 0.        ,  0.00877193,  0.        ,  0.        ,  0.00877193,\n",
              "          0.        ,  0.00877193,  0.00877193,  0.00877193,  0.00877193],\n",
              "        [ 0.        ,  0.        ,  0.        ,  0.        ,  0.        ,\n",
              "          0.00877193,  0.        ,  0.00877193,  0.        ,  0.        ],\n",
              "        [ 0.        ,  0.        ,  0.        ,  0.        ,  0.        ,\n",
              "          0.        ,  0.        ,  0.        ,  0.        ,  0.        ],\n",
              "        [ 0.        ,  0.        ,  0.        ,  0.        ,  0.        ,\n",
              "          0.        ,  0.        ,  0.        ,  0.        ,  0.        ],\n",
              "        [ 0.        ,  0.        ,  0.        ,  0.        ,  0.        ,\n",
              "          0.        ,  0.        ,  0.        ,  0.        ,  0.        ],\n",
              "        [ 0.        ,  0.        ,  0.        ,  0.        ,  0.        ,\n",
              "          0.        ,  0.        ,  0.        ,  0.        ,  0.        ],\n",
              "        [ 0.        ,  0.        ,  0.        ,  0.        ,  0.        ,\n",
              "          0.        ,  0.        ,  0.        ,  0.        ,  0.        ],\n",
              "        [ 0.        ,  0.00877193,  0.        ,  0.        ,  0.00877193,\n",
              "          0.        ,  0.00877193,  0.        , -0.00877193,  0.00877193],\n",
              "        [ 0.        ,  0.00877193,  0.00877193,  0.        ,  0.        ,\n",
              "         -0.00877193,  0.00877193, -0.00877193, -0.00877193,  0.00877193],\n",
              "        [ 0.        ,  0.00877193, -0.00877193,  0.        ,  0.00877193,\n",
              "         -0.00877193,  0.00877193,  0.        ,  0.        ,  0.00877193],\n",
              "        [-0.00877193,  0.        , -0.00877193,  0.        ,  0.00877193,\n",
              "          0.        ,  0.        , -0.00877193, -0.00877193,  0.        ],\n",
              "        [ 0.        ,  0.        ,  0.        ,  0.        ,  0.        ,\n",
              "          0.        ,  0.        ,  0.        ,  0.        ,  0.        ],\n",
              "        [ 0.        ,  0.        ,  0.        ,  0.        ,  0.        ,\n",
              "          0.        ,  0.        ,  0.        ,  0.        ,  0.        ],\n",
              "        [ 0.        ,  0.        ,  0.        ,  0.        ,  0.        ,\n",
              "          0.        ,  0.        ,  0.        ,  0.        ,  0.00877193],\n",
              "        [ 0.        ,  0.00877193, -0.00877193, -0.01754386,  0.00877193,\n",
              "          0.        , -0.00877193, -0.01754386,  0.01754386,  0.        ],\n",
              "        [ 0.        ,  0.        ,  0.        ,  0.00877193,  0.        ,\n",
              "          0.        ,  0.        ,  0.        ,  0.        ,  0.        ],\n",
              "        [ 0.        ,  0.        ,  0.        ,  0.        ,  0.        ,\n",
              "          0.        ,  0.        ,  0.        ,  0.        ,  0.        ]])}"
            ]
          },
          "metadata": {},
          "execution_count": 18
        }
      ]
    },
    {
      "cell_type": "code",
      "source": [
        "importances=dict(zip(data['feature_names'],c1f.feature_importances_))\n",
        "importances={k:v for k,v in sorted(importances.items(),key=lambda x:x[1],reverse=True)}\n",
        "importances"
      ],
      "metadata": {
        "colab": {
          "base_uri": "https://localhost:8080/"
        },
        "id": "A4oSchtpWoUW",
        "outputId": "3515574f-0454-47c3-ea81-01db1da29a5f"
      },
      "execution_count": null,
      "outputs": [
        {
          "output_type": "execute_result",
          "data": {
            "text/plain": [
              "{'mean concave points': 0.15818756230267086,\n",
              " 'worst perimeter': 0.1515734407447014,\n",
              " 'worst concave points': 0.12830939654158113,\n",
              " 'worst radius': 0.10112794379379016,\n",
              " 'worst area': 0.09001488110123121,\n",
              " 'mean area': 0.058273351158346115,\n",
              " 'mean concavity': 0.033010041433864705,\n",
              " 'worst concavity': 0.03166300951730987,\n",
              " 'mean perimeter': 0.030898662435150825,\n",
              " 'mean radius': 0.023619186446238286,\n",
              " 'area error': 0.02314933677364479,\n",
              " 'worst texture': 0.01964591393635721,\n",
              " 'perimeter error': 0.01833542735275428,\n",
              " 'worst symmetry': 0.016185004310487652,\n",
              " 'mean texture': 0.015615995234650508,\n",
              " 'worst smoothness': 0.014531970362611783,\n",
              " 'mean compactness': 0.013261739733300007,\n",
              " 'worst compactness': 0.011297525793736038,\n",
              " 'mean smoothness': 0.008418919977652586,\n",
              " 'fractal dimension error': 0.006488923533623576,\n",
              " 'worst fractal dimension': 0.00636641674399518,\n",
              " 'symmetry error': 0.005501986471877898,\n",
              " 'radius error': 0.0053306906072849835,\n",
              " 'concavity error': 0.005327884323081036,\n",
              " 'texture error': 0.004878769666641764,\n",
              " 'smoothness error': 0.004496396929041269,\n",
              " 'concave points error': 0.004050625722107703,\n",
              " 'mean fractal dimension': 0.003923569959302721,\n",
              " 'compactness error': 0.003772887865505493,\n",
              " 'mean symmetry': 0.002742539227459084}"
            ]
          },
          "metadata": {},
          "execution_count": 23
        }
      ]
    },
    {
      "cell_type": "code",
      "source": [
        "nb_c1f=GaussianNB()\n",
        "nb_c1f.fit(x_train,y_train)\n"
      ],
      "metadata": {
        "colab": {
          "base_uri": "https://localhost:8080/",
          "height": 74
        },
        "id": "_Gacj550Xx1a",
        "outputId": "274ab824-db52-4c08-fe70-1e840dfb5e22"
      },
      "execution_count": null,
      "outputs": [
        {
          "output_type": "execute_result",
          "data": {
            "text/plain": [
              "GaussianNB()"
            ],
            "text/html": [
              "<style>#sk-container-id-2 {color: black;}#sk-container-id-2 pre{padding: 0;}#sk-container-id-2 div.sk-toggleable {background-color: white;}#sk-container-id-2 label.sk-toggleable__label {cursor: pointer;display: block;width: 100%;margin-bottom: 0;padding: 0.3em;box-sizing: border-box;text-align: center;}#sk-container-id-2 label.sk-toggleable__label-arrow:before {content: \"▸\";float: left;margin-right: 0.25em;color: #696969;}#sk-container-id-2 label.sk-toggleable__label-arrow:hover:before {color: black;}#sk-container-id-2 div.sk-estimator:hover label.sk-toggleable__label-arrow:before {color: black;}#sk-container-id-2 div.sk-toggleable__content {max-height: 0;max-width: 0;overflow: hidden;text-align: left;background-color: #f0f8ff;}#sk-container-id-2 div.sk-toggleable__content pre {margin: 0.2em;color: black;border-radius: 0.25em;background-color: #f0f8ff;}#sk-container-id-2 input.sk-toggleable__control:checked~div.sk-toggleable__content {max-height: 200px;max-width: 100%;overflow: auto;}#sk-container-id-2 input.sk-toggleable__control:checked~label.sk-toggleable__label-arrow:before {content: \"▾\";}#sk-container-id-2 div.sk-estimator input.sk-toggleable__control:checked~label.sk-toggleable__label {background-color: #d4ebff;}#sk-container-id-2 div.sk-label input.sk-toggleable__control:checked~label.sk-toggleable__label {background-color: #d4ebff;}#sk-container-id-2 input.sk-hidden--visually {border: 0;clip: rect(1px 1px 1px 1px);clip: rect(1px, 1px, 1px, 1px);height: 1px;margin: -1px;overflow: hidden;padding: 0;position: absolute;width: 1px;}#sk-container-id-2 div.sk-estimator {font-family: monospace;background-color: #f0f8ff;border: 1px dotted black;border-radius: 0.25em;box-sizing: border-box;margin-bottom: 0.5em;}#sk-container-id-2 div.sk-estimator:hover {background-color: #d4ebff;}#sk-container-id-2 div.sk-parallel-item::after {content: \"\";width: 100%;border-bottom: 1px solid gray;flex-grow: 1;}#sk-container-id-2 div.sk-label:hover label.sk-toggleable__label {background-color: #d4ebff;}#sk-container-id-2 div.sk-serial::before {content: \"\";position: absolute;border-left: 1px solid gray;box-sizing: border-box;top: 0;bottom: 0;left: 50%;z-index: 0;}#sk-container-id-2 div.sk-serial {display: flex;flex-direction: column;align-items: center;background-color: white;padding-right: 0.2em;padding-left: 0.2em;position: relative;}#sk-container-id-2 div.sk-item {position: relative;z-index: 1;}#sk-container-id-2 div.sk-parallel {display: flex;align-items: stretch;justify-content: center;background-color: white;position: relative;}#sk-container-id-2 div.sk-item::before, #sk-container-id-2 div.sk-parallel-item::before {content: \"\";position: absolute;border-left: 1px solid gray;box-sizing: border-box;top: 0;bottom: 0;left: 50%;z-index: -1;}#sk-container-id-2 div.sk-parallel-item {display: flex;flex-direction: column;z-index: 1;position: relative;background-color: white;}#sk-container-id-2 div.sk-parallel-item:first-child::after {align-self: flex-end;width: 50%;}#sk-container-id-2 div.sk-parallel-item:last-child::after {align-self: flex-start;width: 50%;}#sk-container-id-2 div.sk-parallel-item:only-child::after {width: 0;}#sk-container-id-2 div.sk-dashed-wrapped {border: 1px dashed gray;margin: 0 0.4em 0.5em 0.4em;box-sizing: border-box;padding-bottom: 0.4em;background-color: white;}#sk-container-id-2 div.sk-label label {font-family: monospace;font-weight: bold;display: inline-block;line-height: 1.2em;}#sk-container-id-2 div.sk-label-container {text-align: center;}#sk-container-id-2 div.sk-container {/* jupyter's `normalize.less` sets `[hidden] { display: none; }` but bootstrap.min.css set `[hidden] { display: none !important; }` so we also need the `!important` here to be able to override the default hidden behavior on the sphinx rendered scikit-learn.org. See: https://github.com/scikit-learn/scikit-learn/issues/21755 */display: inline-block !important;position: relative;}#sk-container-id-2 div.sk-text-repr-fallback {display: none;}</style><div id=\"sk-container-id-2\" class=\"sk-top-container\"><div class=\"sk-text-repr-fallback\"><pre>GaussianNB()</pre><b>In a Jupyter environment, please rerun this cell to show the HTML representation or trust the notebook. <br />On GitHub, the HTML representation is unable to render, please try loading this page with nbviewer.org.</b></div><div class=\"sk-container\" hidden><div class=\"sk-item\"><div class=\"sk-estimator sk-toggleable\"><input class=\"sk-toggleable__control sk-hidden--visually\" id=\"sk-estimator-id-2\" type=\"checkbox\" checked><label for=\"sk-estimator-id-2\" class=\"sk-toggleable__label sk-toggleable__label-arrow\">GaussianNB</label><div class=\"sk-toggleable__content\"><pre>GaussianNB()</pre></div></div></div></div></div>"
            ]
          },
          "metadata": {},
          "execution_count": 25
        }
      ]
    },
    {
      "cell_type": "code",
      "source": [
        "nb_c1f.score(x_test,y_test)"
      ],
      "metadata": {
        "colab": {
          "base_uri": "https://localhost:8080/"
        },
        "id": "jqOSUNmVX8Oe",
        "outputId": "217cff73-8c63-420a-a6d7-5541083eb451"
      },
      "execution_count": null,
      "outputs": [
        {
          "output_type": "execute_result",
          "data": {
            "text/plain": [
              "0.9736842105263158"
            ]
          },
          "metadata": {},
          "execution_count": 27
        }
      ]
    },
    {
      "cell_type": "code",
      "source": [
        "from sklearn.inspection import permutation_importance\n",
        "importances=permutation_importance(nb_c1f,x_test,y_test,n_repeats=10,random_state=42,n_jobs=-1)\n",
        "importances"
      ],
      "metadata": {
        "colab": {
          "base_uri": "https://localhost:8080/"
        },
        "id": "7T1rCCY6YEKS",
        "outputId": "77c6edfd-c0d5-4621-b3e1-c345dd68431d"
      },
      "execution_count": null,
      "outputs": [
        {
          "output_type": "execute_result",
          "data": {
            "text/plain": [
              "{'importances_mean': array([0.01052632, 0.00701754, 0.00701754, 0.0245614 , 0.00350877,\n",
              "        0.00438596, 0.00526316, 0.00526316, 0.00263158, 0.        ,\n",
              "        0.0122807 , 0.00087719, 0.01929825, 0.06578947, 0.        ,\n",
              "        0.        , 0.00350877, 0.        , 0.        , 0.        ,\n",
              "        0.0245614 , 0.00614035, 0.02982456, 0.06403509, 0.00701754,\n",
              "        0.00877193, 0.00614035, 0.00350877, 0.00175439, 0.00701754]),\n",
              " 'importances_std': array([0.01347569, 0.00526316, 0.01095614, 0.01347569, 0.00429735,\n",
              "        0.00980732, 0.00894565, 0.00894565, 0.0040198 , 0.        ,\n",
              "        0.00894565, 0.00263158, 0.01095614, 0.01480872, 0.        ,\n",
              "        0.        , 0.00429735, 0.        , 0.        , 0.        ,\n",
              "        0.01745592, 0.0040198 , 0.0184836 , 0.01666667, 0.00350877,\n",
              "        0.01301087, 0.00789474, 0.00803961, 0.00350877, 0.00350877]),\n",
              " 'importances': array([[ 0.00877193,  0.01754386,  0.00877193,  0.        ,  0.02631579,\n",
              "          0.01754386, -0.00877193, -0.00877193,  0.00877193,  0.03508772],\n",
              "        [ 0.        ,  0.        ,  0.00877193,  0.00877193,  0.00877193,\n",
              "          0.        ,  0.00877193,  0.00877193,  0.00877193,  0.01754386],\n",
              "        [ 0.        ,  0.00877193,  0.00877193,  0.        ,  0.01754386,\n",
              "          0.01754386, -0.00877193, -0.00877193,  0.00877193,  0.02631579],\n",
              "        [ 0.02631579,  0.04385965,  0.01754386,  0.02631579,  0.04385965,\n",
              "          0.00877193,  0.02631579,  0.        ,  0.03508772,  0.01754386],\n",
              "        [ 0.00877193,  0.        ,  0.        ,  0.00877193,  0.        ,\n",
              "          0.00877193,  0.        ,  0.00877193,  0.        ,  0.        ],\n",
              "        [ 0.        ,  0.00877193,  0.00877193,  0.        ,  0.00877193,\n",
              "         -0.00877193, -0.00877193,  0.        ,  0.02631579,  0.00877193],\n",
              "        [ 0.        ,  0.00877193,  0.00877193,  0.        ,  0.00877193,\n",
              "          0.        , -0.00877193,  0.        ,  0.02631579,  0.00877193],\n",
              "        [ 0.        ,  0.00877193,  0.01754386,  0.        ,  0.01754386,\n",
              "          0.00877193, -0.00877193, -0.00877193,  0.00877193,  0.00877193],\n",
              "        [ 0.00877193,  0.        ,  0.        ,  0.00877193,  0.        ,\n",
              "          0.        ,  0.        ,  0.00877193,  0.        ,  0.        ],\n",
              "        [ 0.        ,  0.        ,  0.        ,  0.        ,  0.        ,\n",
              "          0.        ,  0.        ,  0.        ,  0.        ,  0.        ],\n",
              "        [ 0.02631579,  0.02631579,  0.00877193,  0.00877193,  0.01754386,\n",
              "          0.        ,  0.01754386,  0.        ,  0.00877193,  0.00877193],\n",
              "        [ 0.        ,  0.        ,  0.        ,  0.        ,  0.        ,\n",
              "          0.        ,  0.        ,  0.        ,  0.        ,  0.00877193],\n",
              "        [ 0.03508772,  0.02631579,  0.01754386,  0.01754386,  0.02631579,\n",
              "          0.00877193,  0.03508772,  0.        ,  0.01754386,  0.00877193],\n",
              "        [ 0.07894737,  0.05263158,  0.07017544,  0.07017544,  0.0877193 ,\n",
              "          0.06140351,  0.07017544,  0.03508772,  0.07894737,  0.05263158],\n",
              "        [ 0.        ,  0.        ,  0.        ,  0.        ,  0.        ,\n",
              "          0.        ,  0.        ,  0.        ,  0.        ,  0.        ],\n",
              "        [ 0.        ,  0.        ,  0.        ,  0.        ,  0.        ,\n",
              "          0.        ,  0.        ,  0.        ,  0.        ,  0.        ],\n",
              "        [ 0.        ,  0.        ,  0.00877193,  0.        ,  0.00877193,\n",
              "          0.        ,  0.        ,  0.        ,  0.00877193,  0.00877193],\n",
              "        [ 0.        ,  0.        ,  0.        ,  0.        ,  0.        ,\n",
              "          0.        ,  0.        ,  0.        ,  0.        ,  0.        ],\n",
              "        [ 0.        ,  0.        ,  0.        ,  0.        ,  0.        ,\n",
              "          0.        ,  0.        ,  0.        ,  0.        ,  0.        ],\n",
              "        [ 0.        ,  0.        ,  0.        ,  0.        ,  0.        ,\n",
              "          0.        ,  0.        ,  0.        ,  0.        ,  0.        ],\n",
              "        [ 0.02631579,  0.04385965,  0.02631579,  0.00877193,  0.04385965,\n",
              "          0.01754386,  0.        ,  0.        ,  0.05263158,  0.02631579],\n",
              "        [ 0.        ,  0.        ,  0.00877193,  0.00877193,  0.00877193,\n",
              "          0.        ,  0.00877193,  0.00877193,  0.00877193,  0.00877193],\n",
              "        [ 0.02631579,  0.05263158,  0.03508772,  0.00877193,  0.05263158,\n",
              "          0.02631579,  0.00877193,  0.        ,  0.05263158,  0.03508772],\n",
              "        [ 0.05263158,  0.06140351,  0.06140351,  0.07017544,  0.07894737,\n",
              "          0.05263158,  0.06140351,  0.05263158,  0.10526316,  0.04385965],\n",
              "        [ 0.        ,  0.00877193,  0.00877193,  0.00877193,  0.00877193,\n",
              "          0.00877193,  0.        ,  0.00877193,  0.00877193,  0.00877193],\n",
              "        [ 0.        ,  0.01754386,  0.01754386,  0.00877193,  0.        ,\n",
              "         -0.00877193, -0.00877193,  0.01754386,  0.03508772,  0.00877193],\n",
              "        [ 0.        ,  0.00877193,  0.01754386,  0.00877193,  0.        ,\n",
              "          0.        , -0.00877193,  0.00877193,  0.00877193,  0.01754386],\n",
              "        [ 0.        ,  0.00877193,  0.        ,  0.        ,  0.00877193,\n",
              "          0.00877193, -0.00877193, -0.00877193,  0.01754386,  0.00877193],\n",
              "        [ 0.        ,  0.        ,  0.        ,  0.        ,  0.        ,\n",
              "          0.00877193,  0.        ,  0.        ,  0.        ,  0.00877193],\n",
              "        [ 0.00877193,  0.00877193,  0.00877193,  0.00877193,  0.00877193,\n",
              "          0.        ,  0.        ,  0.00877193,  0.00877193,  0.00877193]])}"
            ]
          },
          "metadata": {},
          "execution_count": 29
        }
      ]
    },
    {
      "cell_type": "code",
      "source": [
        "importances=dict(zip(data['feature_names'],result.importances_mean))\n",
        "importances={k:v for k,v in sorted(importances.items(),key=lambda x:x[1],reverse=True)}\n",
        "importances"
      ],
      "metadata": {
        "colab": {
          "base_uri": "https://localhost:8080/",
          "height": 176
        },
        "id": "_qO-OzirYbHH",
        "outputId": "0611c375-8775-454a-ef96-6354f0e67d3c"
      },
      "execution_count": null,
      "outputs": [
        {
          "output_type": "error",
          "ename": "NameError",
          "evalue": "name 'result' is not defined",
          "traceback": [
            "\u001b[0;31m---------------------------------------------------------------------------\u001b[0m",
            "\u001b[0;31mNameError\u001b[0m                                 Traceback (most recent call last)",
            "\u001b[0;32m<ipython-input-32-391a53166ca5>\u001b[0m in \u001b[0;36m<cell line: 1>\u001b[0;34m()\u001b[0m\n\u001b[0;32m----> 1\u001b[0;31m \u001b[0mimportances\u001b[0m\u001b[0;34m=\u001b[0m\u001b[0mdict\u001b[0m\u001b[0;34m(\u001b[0m\u001b[0mzip\u001b[0m\u001b[0;34m(\u001b[0m\u001b[0mdata\u001b[0m\u001b[0;34m[\u001b[0m\u001b[0;34m'feature_names'\u001b[0m\u001b[0;34m]\u001b[0m\u001b[0;34m,\u001b[0m\u001b[0mresult\u001b[0m\u001b[0;34m.\u001b[0m\u001b[0mimportances_mean\u001b[0m\u001b[0;34m)\u001b[0m\u001b[0;34m)\u001b[0m\u001b[0;34m\u001b[0m\u001b[0;34m\u001b[0m\u001b[0m\n\u001b[0m\u001b[1;32m      2\u001b[0m \u001b[0mimportances\u001b[0m\u001b[0;34m=\u001b[0m\u001b[0;34m{\u001b[0m\u001b[0mk\u001b[0m\u001b[0;34m:\u001b[0m\u001b[0mv\u001b[0m \u001b[0;32mfor\u001b[0m \u001b[0mk\u001b[0m\u001b[0;34m,\u001b[0m\u001b[0mv\u001b[0m \u001b[0;32min\u001b[0m \u001b[0msorted\u001b[0m\u001b[0;34m(\u001b[0m\u001b[0mimportances\u001b[0m\u001b[0;34m.\u001b[0m\u001b[0mitems\u001b[0m\u001b[0;34m(\u001b[0m\u001b[0;34m)\u001b[0m\u001b[0;34m,\u001b[0m\u001b[0mkey\u001b[0m\u001b[0;34m=\u001b[0m\u001b[0;32mlambda\u001b[0m \u001b[0mx\u001b[0m\u001b[0;34m:\u001b[0m\u001b[0mx\u001b[0m\u001b[0;34m[\u001b[0m\u001b[0;36m1\u001b[0m\u001b[0;34m]\u001b[0m\u001b[0;34m,\u001b[0m\u001b[0mreverse\u001b[0m\u001b[0;34m=\u001b[0m\u001b[0;32mTrue\u001b[0m\u001b[0;34m)\u001b[0m\u001b[0;34m}\u001b[0m\u001b[0;34m\u001b[0m\u001b[0;34m\u001b[0m\u001b[0m\n\u001b[1;32m      3\u001b[0m \u001b[0mimportances\u001b[0m\u001b[0;34m\u001b[0m\u001b[0;34m\u001b[0m\u001b[0m\n",
            "\u001b[0;31mNameError\u001b[0m: name 'result' is not defined"
          ]
        }
      ]
    }
  ]
}