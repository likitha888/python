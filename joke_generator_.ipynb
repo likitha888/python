{
  "nbformat": 4,
  "nbformat_minor": 0,
  "metadata": {
    "colab": {
      "provenance": [],
      "authorship_tag": "ABX9TyMPZ8O61B2l/fVzn+ZtCMh2",
      "include_colab_link": true
    },
    "kernelspec": {
      "name": "python3",
      "display_name": "Python 3"
    },
    "language_info": {
      "name": "python"
    }
  },
  "cells": [
    {
      "cell_type": "markdown",
      "metadata": {
        "id": "view-in-github",
        "colab_type": "text"
      },
      "source": [
        "<a href=\"https://colab.research.google.com/github/likitha888/python/blob/main/joke_generator_.ipynb\" target=\"_parent\"><img src=\"https://colab.research.google.com/assets/colab-badge.svg\" alt=\"Open In Colab\"/></a>"
      ]
    },
    {
      "cell_type": "code",
      "source": [
        "from langchain_core.output_parsers import PydanticOutputParser\n",
        "from pydantic import BaseModel, Field, model_validator\n",
        "from langchain_core.prompts import PromptTemplate\n",
        "from transformers import pipeline\n",
        "# Define the Joke model\n",
        "class Joke(BaseModel):\n",
        "    setup: str = Field(description=\"Question to set up the joke\")\n",
        "    punchline: str = Field(description=\"Answer to resolve the joke\")\n",
        "    @model_validator(mode=\"before\")\n",
        "    @classmethod\n",
        "    def question_ends_with_question_mark(cls, values: dict) -> dict:\n",
        "        setup = values.get(\"setup\")\n",
        "        if setup and not setup.endswith(\"?\"):  # Fix: Handle None case\n",
        "            raise ValueError(\"Setup must end with a question mark.\")\n",
        "        return values\n",
        "# Initialize Hugging Face's text generation pipeline\n",
        "generator = pipeline(\"text-generation\", model=\"facebook/opt-1.3b\", max_new_tokens=50)\n",
        "# Use a smaller model like \"facebook/opt-1.3b\" or \"tiiuae/falcon-7b-instruct\" for better jokes\n",
        "# Function to generate jokes using the Hugging Face model\n",
        "def generate_joke(setup: str) -> Joke:\n",
        "    # Generate a punchline using the model\n",
        "    generated = generator(setup, num_return_sequences=1)[0]['generated_text'].strip() # Added () to call strip method\n",
        "    # Fix: Ensure the punchline does not repeat the setup\n",
        "    if generated.startswith(setup):\n",
        "        punchline = generated[len(setup):].strip()\n",
        "    else:\n",
        "        punchline = generated\n",
        "    # Return joke as a structured object\n",
        "    return Joke(setup=setup, punchline=punchline)\n",
        "# Example usage\n",
        "setup_text = \"Why don’t skeletons fight each other?\"\n",
        "joke = generate_joke(setup_text)\n",
        "print(f\"Setup: {joke.setup}\")\n",
        "print(f\"Punchline: {joke.punchline}\")"
      ],
      "metadata": {
        "colab": {
          "base_uri": "https://localhost:8080/"
        },
        "id": "2ARbyTRoDCqC",
        "outputId": "42faf18c-d844-40f7-a202-4a3e3d8c283a"
      },
      "execution_count": 12,
      "outputs": [
        {
          "output_type": "stream",
          "name": "stderr",
          "text": [
            "Device set to use cpu\n"
          ]
        },
        {
          "output_type": "stream",
          "name": "stdout",
          "text": [
            "Setup: Why don’t skeletons fight each other?\n",
            "Punchline: Because they're all dead.\n"
          ]
        }
      ]
    }
  ]
}