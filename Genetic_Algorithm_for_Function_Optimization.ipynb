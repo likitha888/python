{
  "nbformat": 4,
  "nbformat_minor": 0,
  "metadata": {
    "colab": {
      "provenance": [],
      "authorship_tag": "ABX9TyMhweC8j4pZYEGrTg4xa28v",
      "include_colab_link": true
    },
    "kernelspec": {
      "name": "python3",
      "display_name": "Python 3"
    },
    "language_info": {
      "name": "python"
    }
  },
  "cells": [
    {
      "cell_type": "markdown",
      "metadata": {
        "id": "view-in-github",
        "colab_type": "text"
      },
      "source": [
        "<a href=\"https://colab.research.google.com/github/likitha888/python/blob/main/Genetic_Algorithm_for_Function_Optimization.ipynb\" target=\"_parent\"><img src=\"https://colab.research.google.com/assets/colab-badge.svg\" alt=\"Open In Colab\"/></a>"
      ]
    },
    {
      "cell_type": "code",
      "execution_count": 2,
      "metadata": {
        "colab": {
          "base_uri": "https://localhost:8080/"
        },
        "id": "awjo0WBx3o9d",
        "outputId": "162ac044-32c5-4d64-8fe2-36ed8733def4"
      },
      "outputs": [
        {
          "output_type": "stream",
          "name": "stdout",
          "text": [
            "Best solution: [-0.0009783810939714144, -0.0009783810939714144, -0.0009783810939714144, -0.0009783810939714144, -0.0009783810939714144, -0.0009783810939714144, -0.0009783810939714144, -0.0009783810939714144, -0.0009783810939714144, -0.0009783810939714144]\n",
            "Best value: 0.0018990617709420121\n"
          ]
        }
      ],
      "source": [
        "import numpy as np\n",
        "import random\n",
        "import math\n",
        "\n",
        "# Rastrigin function (minimization problem)\n",
        "def rastrigin(x):\n",
        "    A = 10\n",
        "    return A * len(x) + sum(xi**2 - A * np.cos(2 * np.pi * xi) for xi in x)\n",
        "\n",
        "# Generate random initial population\n",
        "def generate_population(pop_size, dim, lower_bound, upper_bound):\n",
        "    population = []\n",
        "    for _ in range(pop_size):\n",
        "        individual = [random.uniform(lower_bound, upper_bound) for _ in range(dim)]\n",
        "        population.append(individual)\n",
        "    return population\n",
        "\n",
        "# Fitness function\n",
        "def fitness(individual):\n",
        "    return -rastrigin(individual)  # Invert the function to maximize the fitness\n",
        "\n",
        "# Selection: Tournament selection\n",
        "def tournament_selection(population, fitness_values, tournament_size=3):\n",
        "    selected = random.sample(list(zip(population, fitness_values)), tournament_size)\n",
        "    selected = sorted(selected, key=lambda x: x[1], reverse=True)\n",
        "    return selected[0][0]\n",
        "\n",
        "# Crossover: Single-point crossover\n",
        "def crossover(parent1, parent2, crossover_rate=0.9):\n",
        "    if random.random() > crossover_rate:\n",
        "        return parent1, parent2\n",
        "\n",
        "    crossover_point = random.randint(1, len(parent1) - 1)\n",
        "    child1 = parent1[:crossover_point] + parent2[crossover_point:]\n",
        "    child2 = parent2[crossover_point:] + parent1[:crossover_point]\n",
        "    return child1, child2\n",
        "\n",
        "# Mutation: Random mutation\n",
        "def mutation(individual, mutation_rate=0.1, lower_bound=-5.12, upper_bound=5.12):\n",
        "    if random.random() < mutation_rate:\n",
        "        mutation_point = random.randint(0, len(individual) - 1)\n",
        "        individual[mutation_point] = random.uniform(lower_bound, upper_bound)\n",
        "    return individual\n",
        "\n",
        "# Genetic Algorithm (GA)\n",
        "def genetic_algorithm(pop_size, dim, lower_bound, upper_bound, generations, crossover_rate=0.9, mutation_rate=0.1):\n",
        "    population = generate_population(pop_size, dim, lower_bound, upper_bound)\n",
        "    best_solution = None\n",
        "    best_fitness = float('-inf')\n",
        "\n",
        "    for generation in range(generations):\n",
        "        fitness_values = [fitness(ind) for ind in population]\n",
        "\n",
        "        # Update the best solution\n",
        "        max_fitness = max(fitness_values)\n",
        "        if max_fitness > best_fitness:\n",
        "            best_fitness = max_fitness\n",
        "            best_solution = population[fitness_values.index(max_fitness)]\n",
        "\n",
        "        # Create new population\n",
        "        new_population = []\n",
        "        while len(new_population) < pop_size:\n",
        "            parent1 = tournament_selection(population, fitness_values)\n",
        "            parent2 = tournament_selection(population, fitness_values)\n",
        "            child1, child2 = crossover(parent1, parent2, crossover_rate)\n",
        "            new_population.append(mutation(child1, mutation_rate))\n",
        "            if len(new_population) < pop_size:\n",
        "                new_population.append(mutation(child2, mutation_rate))\n",
        "\n",
        "        # Replace the population with the new one\n",
        "        population = new_population\n",
        "\n",
        "    return best_solution, rastrigin(best_solution)\n",
        "\n",
        "# Main\n",
        "if __name__ == \"__main__\":\n",
        "    # Parameters\n",
        "    pop_size = 100        # Population size\n",
        "    dim = 10              # Number of dimensions (variables)\n",
        "    lower_bound = -5.12   # Lower bound of each variable\n",
        "    upper_bound = 5.12    # Upper bound of each variable\n",
        "    generations = 1000    # Number of generations\n",
        "\n",
        "    best_solution, best_value = genetic_algorithm(pop_size, dim, lower_bound, upper_bound, generations)\n",
        "    print(f\"Best solution: {best_solution}\")\n",
        "    print(f\"Best value: {best_value}\")"
      ]
    }
  ]
}